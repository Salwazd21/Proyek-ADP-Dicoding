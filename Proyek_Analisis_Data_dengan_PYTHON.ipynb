{
  "cells": [
    {
      "cell_type": "markdown",
      "metadata": {
        "id": "view-in-github",
        "colab_type": "text"
      },
      "source": [
        "<a href=\"https://colab.research.google.com/github/Salwazd21/Proyek-ADP-Dicoding/blob/main/Proyek_Analisis_Data_dengan_PYTHON.ipynb\" target=\"_parent\"><img src=\"https://colab.research.google.com/assets/colab-badge.svg\" alt=\"Open In Colab\"/></a>"
      ]
    },
    {
      "cell_type": "markdown",
      "metadata": {
        "id": "H9wADwK78DCz"
      },
      "source": [
        "# Proyek Analisis Data: [Order_Items_Data]\n",
        "\n",
        "- **Nama:** [Salwa Zahrah Dasuki]\n",
        "- **Email:** [Salwazd2004@gmail.com]\n",
        "- **ID Dicoding:** [MC849D5X0945]"
      ]
    },
    {
      "cell_type": "markdown",
      "metadata": {
        "id": "eE0raob58DC0"
      },
      "source": [
        "## Menentukan Pertanyaan Bisnis"
      ]
    },
    {
      "cell_type": "markdown",
      "metadata": {
        "id": "GmQeQ5YF8DC0"
      },
      "source": [
        "- Berapa rata-rata penjualan pada satu tahun terakhir\n",
        "- Berapa total penjualan pada tahun 2016, 2017, 2018, 2020\n",
        "- Produk terlaris pada satu tahun terakhir"
      ]
    },
    {
      "cell_type": "markdown",
      "metadata": {
        "id": "H-z4QGlO8DC1"
      },
      "source": [
        "## Import Semua Packages/Library yang Digunakan"
      ]
    },
    {
      "cell_type": "code",
      "execution_count": null,
      "metadata": {
        "id": "FVYwaObI8DC1"
      },
      "outputs": [],
      "source": [
        "import pandas as pd\n",
        "import numpy as np\n",
        "import matplotlib.pyplot as plt\n",
        "import seaborn as sns\n",
        "from google.colab import drive"
      ]
    },
    {
      "cell_type": "markdown",
      "metadata": {
        "id": "sXU2GBYu8DC1"
      },
      "source": [
        "### Gathering Data"
      ]
    },
    {
      "cell_type": "code",
      "execution_count": null,
      "metadata": {
        "id": "zjCBk1BI8DC1",
        "outputId": "395197bd-0b48-4521-c746-780f8180d3a7",
        "colab": {
          "base_uri": "https://localhost:8080/"
        }
      },
      "outputs": [
        {
          "output_type": "stream",
          "name": "stdout",
          "text": [
            "                           order_id  order_item_id  \\\n",
            "0  00054e8431b9d7675808bcb819fb4a32              1   \n",
            "1  000576fe39319847cbb9d288c5617fa6              1   \n",
            "2  0005a1a1728c9d785b8e2b08b904576c              1   \n",
            "3  0005f50442cb953dcd1d21e1fb923495              1   \n",
            "4  00061f2a7bc09da83e415a52dc8a4af1              1   \n",
            "\n",
            "                         product_id                         seller_id  \\\n",
            "0  8d4f2bb7e93e6710a28f34fa83ee7d28  7040e82f899a04d1b434b795a43b4617   \n",
            "1  557d850972a7d6f792fd18ae1400d9b6  5996cddab893a4652a15592fb58ab8db   \n",
            "2  310ae3c140ff94b03219ad0adc3c778f  a416b6a846a11724393025641d4edd5e   \n",
            "3  4535b0e1091c278dfd193e5a1d63b39f  ba143b05f0110f0dc71ad71b4466ce92   \n",
            "4  d63c1011f49d98b976c352955b1c4bea  cc419e0650a3c5ba77189a1882b7556a   \n",
            "\n",
            "  shipping_limit_date   price  freight_value  \n",
            "0      12/14/17 12:10   19.90          11.85  \n",
            "1       7/10/18 12:30  810.00          70.75  \n",
            "2       3/26/18 18:31  145.95          11.65  \n",
            "3        7/6/18 14:10   53.99          11.40  \n",
            "4       3/29/18 22:28   59.99           8.88  \n",
            "<bound method NDFrame.head of                                 order_id  order_item_id  \\\n",
            "0       00054e8431b9d7675808bcb819fb4a32              1   \n",
            "1       000576fe39319847cbb9d288c5617fa6              1   \n",
            "2       0005a1a1728c9d785b8e2b08b904576c              1   \n",
            "3       0005f50442cb953dcd1d21e1fb923495              1   \n",
            "4       00061f2a7bc09da83e415a52dc8a4af1              1   \n",
            "...                                  ...            ...   \n",
            "112639  fffc94f6ce00a00581880bf54a75a037              1   \n",
            "112640  fffcd46ef2263f404302a634eb57f7eb              1   \n",
            "112641  fffce4705a9662cd70adb13d4a31832d              1   \n",
            "112642  fffe18544ffabc95dfada21779c9644f              1   \n",
            "112643  fffe41c64501cc87c801fd61db3f6244              1   \n",
            "\n",
            "                              product_id                         seller_id  \\\n",
            "0       8d4f2bb7e93e6710a28f34fa83ee7d28  7040e82f899a04d1b434b795a43b4617   \n",
            "1       557d850972a7d6f792fd18ae1400d9b6  5996cddab893a4652a15592fb58ab8db   \n",
            "2       310ae3c140ff94b03219ad0adc3c778f  a416b6a846a11724393025641d4edd5e   \n",
            "3       4535b0e1091c278dfd193e5a1d63b39f  ba143b05f0110f0dc71ad71b4466ce92   \n",
            "4       d63c1011f49d98b976c352955b1c4bea  cc419e0650a3c5ba77189a1882b7556a   \n",
            "...                                  ...                               ...   \n",
            "112639  4aa6014eceb682077f9dc4bffebc05b0  b8bc237ba3788b23da09c0f1f3a3288c   \n",
            "112640  32e07fd915822b0765e448c4dd74c828  f3c38ab652836d21de61fb8314b69182   \n",
            "112641  72a30483855e2eafc67aee5dc2560482  c3cfdc648177fdbbbb35635a37472c53   \n",
            "112642  9c422a519119dcad7575db5af1ba540e  2b3e4a2a3ea8e01938cabda2a3e5cc79   \n",
            "112643  350688d9dc1e75ff97be326363655e01  f7ccf836d21b2fb1de37564105216cc1   \n",
            "\n",
            "       shipping_limit_date   price  freight_value  \n",
            "0           12/14/17 12:10   19.90          11.85  \n",
            "1            7/10/18 12:30  810.00          70.75  \n",
            "2            3/26/18 18:31  145.95          11.65  \n",
            "3             7/6/18 14:10   53.99          11.40  \n",
            "4            3/29/18 22:28   59.99           8.88  \n",
            "...                    ...     ...            ...  \n",
            "112639         5/2/18 4:11  299.99          43.41  \n",
            "112640        7/20/18 4:31  350.00          36.53  \n",
            "112641      10/30/17 17:14   99.90          16.95  \n",
            "112642        8/21/17 0:04   55.99           8.72  \n",
            "112643       6/12/18 17:10   43.00          12.79  \n",
            "\n",
            "[112644 rows x 7 columns]>\n"
          ]
        }
      ],
      "source": [
        "url='https://docs.google.com/spreadsheets/d/e/2PACX-1vRddp1K41XJ5OZ-jafE3adPhwaND_7N9-gstXGsVAFYF2kGa1Xn0ALzwy-Lg5dYJb_GUT8IyGUxMZj2/pub?gid=847716765&single=true&output=csv'\n",
        "df = pd.read_csv(url, skiprows=7, header=None)\n",
        "df.columns = ['order_id', 'order_item_id', 'product_id', 'seller_id', 'shipping_limit_date', 'price', 'freight_value']\n",
        "df = df.fillna(' ')\n",
        "print(df.head())\n",
        "print(df.head)"
      ]
    },
    {
      "cell_type": "markdown",
      "source": [
        "**Insight:**\n",
        "- Data Penjualan diambil dari googlr sheets dengan URL\n",
        "- Data memiliki 7 kolom, termasuk ID pesanan, ID item, ID produk, dan informasi harga."
      ],
      "metadata": {
        "id": "MMi6xGaDkbCi"
      }
    },
    {
      "cell_type": "markdown",
      "metadata": {
        "id": "FHSiqaZp8DC1"
      },
      "source": [
        "### Assessing Data"
      ]
    },
    {
      "cell_type": "code",
      "source": [
        "print(\"\\nInformasi Tipe Data dan Non-Null:\")\n",
        "print(df.info())\n",
        "\n",
        "print(\"\\nStatistik Deskriptif Data Numerik:\")\n",
        "print(df.describe())\n",
        "\n",
        "print(\"\\nJumlah Nilai NaN di Setiap Kolom:\")\n",
        "print(df.isnull().sum())\n",
        "\n",
        "print(\"\\nJumlah Data Duplikat:\")\n",
        "print(df.duplicated().sum())\n",
        "\n",
        "plt.hist(df['price'], bins=20)\n",
        "plt.title('Distribusi Harga')\n",
        "plt.xlabel('Harga')\n",
        "plt.ylabel('Frekuensi')\n",
        "plt.show()"
      ],
      "metadata": {
        "id": "ax-3tEjc9Cj1",
        "colab": {
          "base_uri": "https://localhost:8080/",
          "height": 1000
        },
        "collapsed": true,
        "outputId": "e4f7870a-71ba-4c38-f866-f263fa3a7579"
      },
      "execution_count": null,
      "outputs": [
        {
          "output_type": "stream",
          "name": "stdout",
          "text": [
            "\n",
            "Informasi Tipe Data dan Non-Null:\n",
            "<class 'pandas.core.frame.DataFrame'>\n",
            "RangeIndex: 112644 entries, 0 to 112643\n",
            "Data columns (total 7 columns):\n",
            " #   Column               Non-Null Count   Dtype  \n",
            "---  ------               --------------   -----  \n",
            " 0   order_id             112644 non-null  object \n",
            " 1   order_item_id        112644 non-null  int64  \n",
            " 2   product_id           112644 non-null  object \n",
            " 3   seller_id            112644 non-null  object \n",
            " 4   shipping_limit_date  112644 non-null  object \n",
            " 5   price                112644 non-null  float64\n",
            " 6   freight_value        112644 non-null  float64\n",
            "dtypes: float64(2), int64(1), object(4)\n",
            "memory usage: 6.0+ MB\n",
            "None\n",
            "\n",
            "Statistik Deskriptif Data Numerik:\n",
            "       order_item_id          price  freight_value\n",
            "count  112644.000000  112644.000000  112644.000000\n",
            "mean        1.197845     120.653662      19.990544\n",
            "std         0.705141     183.637567      15.806782\n",
            "min         1.000000       0.850000       0.000000\n",
            "25%         1.000000      39.900000      13.080000\n",
            "50%         1.000000      74.990000      16.260000\n",
            "75%         1.000000     134.900000      21.150000\n",
            "max        21.000000    6735.000000     409.680000\n",
            "\n",
            "Jumlah Nilai NaN di Setiap Kolom:\n",
            "order_id               0\n",
            "order_item_id          0\n",
            "product_id             0\n",
            "seller_id              0\n",
            "shipping_limit_date    0\n",
            "price                  0\n",
            "freight_value          0\n",
            "dtype: int64\n",
            "\n",
            "Jumlah Data Duplikat:\n",
            "0\n"
          ]
        },
        {
          "output_type": "display_data",
          "data": {
            "text/plain": [
              "<Figure size 640x480 with 1 Axes>"
            ],
            "image/png": "[encoded data removed]"
          },
          "metadata": {}
        }
      ]
    },
    {
      "cell_type": "markdown",
      "source": [
        "**Insight:**\n",
        "- Denggan menyusun data menjadi lebih rapih\n",
        "- Membantu menemukan data outlier"
      ],
      "metadata": {
        "id": "7dtxhAPrkhPL"
      }
    },
    {
      "cell_type": "markdown",
      "metadata": {
        "id": "EhN5R4hr8DC1"
      },
      "source": [
        "### Cleaning Data"
      ]
    },
    {
      "cell_type": "code",
      "source": [
        "df = df.fillna(np.nan)\n",
        "df['shipping_limit_date'] = pd.to_datetime(df['shipping_limit_date'])\n",
        "df['price'] = pd.to_numeric(df['price'], errors='coerce')\n",
        "df['freight_value'] = pd.to_numeric(df['freight_value'], errors='coerce')\n",
        "df = df.drop_duplicates()\n",
        "batas_atas_price = df['price'].quantile(0.99)\n",
        "df = df[df['price'] <= batas_atas_price]"
      ],
      "metadata": {
        "id": "jVnYpprE9Evz",
        "colab": {
          "base_uri": "https://localhost:8080/"
        },
        "outputId": "e9c47f89-e7d5-456d-e56f-74e68ebcb270"
      },
      "execution_count": null,
      "outputs": [
        {
          "output_type": "stream",
          "name": "stderr",
          "text": [
            "<ipython-input-4-3bdfda6d1fc5>:2: UserWarning: Could not infer format, so each element will be parsed individually, falling back to `dateutil`. To ensure parsing is consistent and as-expected, please specify a format.\n",
            "  df['shipping_limit_date'] = pd.to_datetime(df['shipping_limit_date'])\n"
          ]
        }
      ]
    },
    {
      "cell_type": "markdown",
      "source": [
        "**Insight:**\n",
        "- Nilai diganti dengan NaN untuk memberikan penanganan yang konsisten\n",
        "- Tipe data kolom tanggal dikonversi ke datetime, memungkinkan analisis time series dan ekstraksi informasi temporal."
      ],
      "metadata": {
        "id": "Q_5ejIqckiSP"
      }
    },
    {
      "cell_type": "markdown",
      "metadata": {
        "id": "gp-Y6wU38DC1"
      },
      "source": [
        "## Exploratory Data Analysis (EDA)"
      ]
    },
    {
      "cell_type": "code",
      "source": [
        "print(\"Informasi Data:\")\n",
        "print(df.info())\n",
        "\n",
        "print(\"\\nStatistik Deskriptif:\")\n",
        "print(df.describe())"
      ],
      "metadata": {
        "colab": {
          "base_uri": "https://localhost:8080/"
        },
        "collapsed": true,
        "id": "MqFFbdfqqVbr",
        "outputId": "4ed4de68-1920-4d30-fcbe-aa68b9543381"
      },
      "execution_count": null,
      "outputs": [
        {
          "output_type": "stream",
          "name": "stdout",
          "text": [
            "Informasi Data:\n",
            "<class 'pandas.core.frame.DataFrame'>\n",
            "Index: 111527 entries, 0 to 112643\n",
            "Data columns (total 7 columns):\n",
            " #   Column               Non-Null Count   Dtype         \n",
            "---  ------               --------------   -----         \n",
            " 0   order_id             111527 non-null  object        \n",
            " 1   order_item_id        111527 non-null  int64         \n",
            " 2   product_id           111527 non-null  object        \n",
            " 3   seller_id            111527 non-null  object        \n",
            " 4   shipping_limit_date  111527 non-null  datetime64[ns]\n",
            " 5   price                111527 non-null  float64       \n",
            " 6   freight_value        111527 non-null  float64       \n",
            "dtypes: datetime64[ns](1), float64(2), int64(1), object(3)\n",
            "memory usage: 6.8+ MB\n",
            "None\n",
            "\n",
            "Statistik Deskriptif:\n",
            "       order_item_id            shipping_limit_date          price  \\\n",
            "count  111527.000000                         111527  111527.000000   \n",
            "mean        1.199154  2018-01-07 16:17:57.778654720     107.514977   \n",
            "min         1.000000            2016-09-19 00:15:00       0.850000   \n",
            "25%         1.000000            2017-09-20 22:07:30      39.900000   \n",
            "50%         1.000000            2018-01-26 14:00:00      73.500000   \n",
            "75%         1.000000            2018-05-10 14:14:00     129.990000   \n",
            "max        21.000000            2020-04-09 22:35:00     890.000000   \n",
            "std         0.707060                            NaN     112.759462   \n",
            "\n",
            "       freight_value  \n",
            "count  111527.000000  \n",
            "mean       19.599119  \n",
            "min         0.000000  \n",
            "25%        13.020000  \n",
            "50%        16.190000  \n",
            "75%        20.990000  \n",
            "max       312.410000  \n",
            "std        14.454795  \n"
          ]
        }
      ]
    },
    {
      "cell_type": "markdown",
      "source": [
        "**Insight**\n",
        "- Distribusi harga mengindikasikan adanya beberapa transaksi dengan nilai tinggi.\n",
        "- Boxplot harga mengidentifikasi potensi outlier dan memberikan gambaran tentang rentang interkuartil data."
      ],
      "metadata": {
        "id": "AQfXAlYR-Epo"
      }
    },
    {
      "cell_type": "markdown",
      "metadata": {
        "id": "MW7WF2kr8DC1"
      },
      "source": [
        "### Explore Data"
      ]
    },
    {
      "cell_type": "code",
      "execution_count": null,
      "metadata": {
        "id": "e9CQCZjk8DC2",
        "colab": {
          "base_uri": "https://localhost:8080/"
        },
        "outputId": "0c86d4c9-587b-49f4-e48d-a0f4a6bd5a43"
      },
      "outputs": [
        {
          "output_type": "stream",
          "name": "stdout",
          "text": [
            "<bound method NDFrame.head of                                 order_id  order_item_id  \\\n",
            "0       00054e8431b9d7675808bcb819fb4a32              1   \n",
            "1       000576fe39319847cbb9d288c5617fa6              1   \n",
            "2       0005a1a1728c9d785b8e2b08b904576c              1   \n",
            "3       0005f50442cb953dcd1d21e1fb923495              1   \n",
            "4       00061f2a7bc09da83e415a52dc8a4af1              1   \n",
            "...                                  ...            ...   \n",
            "112639  fffc94f6ce00a00581880bf54a75a037              1   \n",
            "112640  fffcd46ef2263f404302a634eb57f7eb              1   \n",
            "112641  fffce4705a9662cd70adb13d4a31832d              1   \n",
            "112642  fffe18544ffabc95dfada21779c9644f              1   \n",
            "112643  fffe41c64501cc87c801fd61db3f6244              1   \n",
            "\n",
            "                              product_id                         seller_id  \\\n",
            "0       8d4f2bb7e93e6710a28f34fa83ee7d28  7040e82f899a04d1b434b795a43b4617   \n",
            "1       557d850972a7d6f792fd18ae1400d9b6  5996cddab893a4652a15592fb58ab8db   \n",
            "2       310ae3c140ff94b03219ad0adc3c778f  a416b6a846a11724393025641d4edd5e   \n",
            "3       4535b0e1091c278dfd193e5a1d63b39f  ba143b05f0110f0dc71ad71b4466ce92   \n",
            "4       d63c1011f49d98b976c352955b1c4bea  cc419e0650a3c5ba77189a1882b7556a   \n",
            "...                                  ...                               ...   \n",
            "112639  4aa6014eceb682077f9dc4bffebc05b0  b8bc237ba3788b23da09c0f1f3a3288c   \n",
            "112640  32e07fd915822b0765e448c4dd74c828  f3c38ab652836d21de61fb8314b69182   \n",
            "112641  72a30483855e2eafc67aee5dc2560482  c3cfdc648177fdbbbb35635a37472c53   \n",
            "112642  9c422a519119dcad7575db5af1ba540e  2b3e4a2a3ea8e01938cabda2a3e5cc79   \n",
            "112643  350688d9dc1e75ff97be326363655e01  f7ccf836d21b2fb1de37564105216cc1   \n",
            "\n",
            "       shipping_limit_date   price  freight_value  tahun    bulan  \n",
            "0      2017-12-14 12:10:00   19.90          11.85   2017  2017-12  \n",
            "1      2018-07-10 12:30:00  810.00          70.75   2018  2018-07  \n",
            "2      2018-03-26 18:31:00  145.95          11.65   2018  2018-03  \n",
            "3      2018-07-06 14:10:00   53.99          11.40   2018  2018-07  \n",
            "4      2018-03-29 22:28:00   59.99           8.88   2018  2018-03  \n",
            "...                    ...     ...            ...    ...      ...  \n",
            "112639 2018-05-02 04:11:00  299.99          43.41   2018  2018-05  \n",
            "112640 2018-07-20 04:31:00  350.00          36.53   2018  2018-07  \n",
            "112641 2017-10-30 17:14:00   99.90          16.95   2017  2017-10  \n",
            "112642 2017-08-21 00:04:00   55.99           8.72   2017  2017-08  \n",
            "112643 2018-06-12 17:10:00   43.00          12.79   2018  2018-06  \n",
            "\n",
            "[111527 rows x 9 columns]>\n"
          ]
        }
      ],
      "source": [
        "df['tahun'] = df['shipping_limit_date'].dt.year\n",
        "df['bulan'] = df['shipping_limit_date'].dt.to_period('M')\n",
        "\n",
        "print(df.head)"
      ]
    },
    {
      "cell_type": "markdown",
      "source": [
        "**Insight:**\n",
        "- Penambahan kolom tahun dan bulan memungkinkan analisis tren penjualan berdasarkan waktu.\n",
        "- Penghitungan jumlah nilai unik pada kolom product_id, memberikan informasi mengenai jumlah produk yang ada."
      ],
      "metadata": {
        "id": "th_Lzl2Fkj9O"
      }
    },
    {
      "cell_type": "markdown",
      "metadata": {
        "id": "zsyZjqak8DC2"
      },
      "source": [
        "## Visualization & Explanatory Analysis"
      ]
    },
    {
      "cell_type": "code",
      "source": [
        "plt.figure(figsize=(10, 5))\n",
        "sns.histplot(df['price'], kde=True)\n",
        "plt.title('Distribusi Harga')\n",
        "plt.show()\n",
        "\n",
        "plt.figure(figsize=(10, 5))\n",
        "sns.boxplot(x=df['price'])\n",
        "plt.title('Boxplot Harga')\n",
        "plt.show()\n"
      ],
      "metadata": {
        "colab": {
          "base_uri": "https://localhost:8080/",
          "height": 957
        },
        "collapsed": true,
        "id": "ILgVX_AWpoEd",
        "outputId": "4bfdc268-1542-49fb-d2da-ece8d71ba36c"
      },
      "execution_count": null,
      "outputs": [
        {
          "output_type": "display_data",
          "data": {
            "text/plain": [
              "<Figure size 1000x500 with 1 Axes>"
            ],
            "image/png": "[encoded data removed]"
          },
          "metadata": {}
        },
        {
          "output_type": "display_data",
          "data": {
            "text/plain": [
              "<Figure size 1000x500 with 1 Axes>"
            ],
            "image/png": "[encoded data removed]"
          },
          "metadata": {}
        }
      ]
    },
    {
      "cell_type": "markdown",
      "metadata": {
        "id": "HZxOiQ6n8DC2"
      },
      "source": [
        "### Pertanyaan 1: Rata-rata Penjealan Tahun Terakhir"
      ]
    },
    {
      "cell_type": "code",
      "execution_count": null,
      "metadata": {
        "id": "1swJUdAD8DC2",
        "colab": {
          "base_uri": "https://localhost:8080/"
        },
        "outputId": "45ff02ab-5429-40fa-d045-5e23d41a3d31"
      },
      "outputs": [
        {
          "output_type": "stream",
          "name": "stdout",
          "text": [
            "\n",
            "Rata-rata penjualan tahun 2020: 86.49\n"
          ]
        }
      ],
      "source": [
        "tahun_terakhir = df['tahun'].max()\n",
        "rata_rata_penjualan_tahun_terakhir = df[df['tahun'] == tahun_terakhir]['price'].mean()\n",
        "print(f\"\\nRata-rata penjualan tahun {tahun_terakhir}: {rata_rata_penjualan_tahun_terakhir}\")"
      ]
    },
    {
      "cell_type": "markdown",
      "metadata": {
        "id": "DgHI7CiU8DC2"
      },
      "source": [
        "### Pertanyaan 2: Total Penjualan Pertahun"
      ]
    },
    {
      "cell_type": "code",
      "execution_count": null,
      "metadata": {
        "id": "Go0lCsvO8DC2",
        "colab": {
          "base_uri": "https://localhost:8080/"
        },
        "outputId": "957039a2-403b-4dea-8079-653e6f5bda5f"
      },
      "outputs": [
        {
          "output_type": "stream",
          "name": "stdout",
          "text": [
            "\n",
            "Total penjualan per tahun:\n",
            "tahun\n",
            "2016      43037.96\n",
            "2017    5291223.61\n",
            "2018    6656215.35\n",
            "2020        345.96\n",
            "Name: price, dtype: float64\n"
          ]
        }
      ],
      "source": [
        "tahun_penjualan = [2016, 2017, 2018, 2020]\n",
        "total_penjualan_per_tahun = df[df['tahun'].isin(tahun_penjualan)].groupby('tahun')['price'].sum()\n",
        "print(\"\\nTotal penjualan per tahun:\")\n",
        "print(total_penjualan_per_tahun)"
      ]
    },
    {
      "cell_type": "markdown",
      "source": [
        "### Pertanyaan 3 : Produk Terlaris"
      ],
      "metadata": {
        "id": "OdHWe2wg8Kp1"
      }
    },
    {
      "cell_type": "code",
      "source": [
        "produk_terlaris = df['product_id'].value_counts().head(10)\n",
        "print(\"\\n10 Produk Terlaris:\")\n",
        "print(produk_terlaris)"
      ],
      "metadata": {
        "colab": {
          "base_uri": "https://localhost:8080/"
        },
        "id": "NQE6dfQ78HLf",
        "outputId": "6e429ea2-834d-4ce5-916c-e36e242b7e00"
      },
      "execution_count": null,
      "outputs": [
        {
          "output_type": "stream",
          "name": "stdout",
          "text": [
            "\n",
            "10 Produk Terlaris:\n",
            "product_id\n",
            "aca2eb7d00ea1a7b8ebd4e68314663af    527\n",
            "99a4788cb24856965c36a24e339b6058    488\n",
            "422879e10f46682990de24d770e7f83d    484\n",
            "389d119b48cf3043d311335e499d9c6b    392\n",
            "368c6c730842d78016ad823897a372db    388\n",
            "53759a2ecddad2bb87a079a1f1519f73    373\n",
            "d1c427060a0f73f6b889a5c7c61f2ac4    343\n",
            "53b36df67ebb7c41585e8d54d6772e08    323\n",
            "154e7e31ebfa092203795c972e5804a6    281\n",
            "3dd2a17168ec895c781a9191c1e95ad7    274\n",
            "Name: count, dtype: int64\n"
          ]
        }
      ]
    },
    {
      "cell_type": "markdown",
      "source": [
        "**Insight:**\n",
        "- Memberikan kinerja penjualan pertahun\n",
        "- Mengetahui penjualan pertahun\n",
        "- Mengetahui produk yang banyak diminati pelanggan"
      ],
      "metadata": {
        "id": "_0-36BDLklRg"
      }
    },
    {
      "cell_type": "markdown",
      "source": [
        "## Analisis Lanjutan (Opsional)"
      ],
      "metadata": {
        "id": "9y4VUsmcYNZ5"
      }
    },
    {
      "cell_type": "code",
      "source": [
        "korelasi = df[['price', 'freight_value']].corr()\n",
        "print(\"\\nKorelasi Harga dan Biaya Pengiriman:\")\n",
        "print(korelasi)"
      ],
      "metadata": {
        "id": "iWhnzsJGYUCO",
        "colab": {
          "base_uri": "https://localhost:8080/"
        },
        "outputId": "7b6db076-2bc9-4fa7-9a36-a795563b6a77"
      },
      "execution_count": null,
      "outputs": [
        {
          "output_type": "stream",
          "name": "stdout",
          "text": [
            "\n",
            "Korelasi Harga dan Biaya Pengiriman:\n",
            "                  price  freight_value\n",
            "price          1.000000       0.385617\n",
            "freight_value  0.385617       1.000000\n"
          ]
        }
      ]
    },
    {
      "cell_type": "markdown",
      "metadata": {
        "id": "_WeHlCeX8DC2"
      },
      "source": [
        "## Conclusion"
      ]
    },
    {
      "cell_type": "markdown",
      "metadata": {
        "id": "ZTcyR48Y8DC2"
      },
      "source": [
        "- Rata-rata penjualan pada tahun terakhir memberikan gambaran mengenai performa penjualan terkini. Jika dibandingkan dengan rata-rata penjualan tahun-tahun sebelumnya, kita dapat melihat apakah terjadi peningkatan atau penurunan. Informasi ini penting untuk perencanaan strategi penjualan di masa depan.\n",
        "\n",
        "- Total penjualan per tahun menunjukkan fluktuasi kinerja penjualan dari waktu ke waktu. Dengan membandingkan total penjualan di tahun-tahun tersebut, kita dapat mengidentifikasi tahun dengan performa terbaik dan terburuk. Analisis ini membantu dalam memahami faktor-faktor yang mempengaruhi penjualan, seperti kondisi pasar, strategi pemasaran, atau faktor musiman.\n",
        "\n",
        "- Identifikasi produk terlaris memberikan wawasan tentang preferensi pelanggan dan produk-produk yang paling diminati."
      ]
    }
  ],
  "metadata": {
    "kernelspec": {
      "display_name": "Python 3",
      "language": "python",
      "name": "python3"
    },
    "language_info": {
      "name": "python",
      "version": "3.8.0 (tags/v3.8.0:fa919fd, Oct 14 2019, 19:21:23) [MSC v.1916 32 bit (Intel)]"
    },
    "orig_nbformat": 4,
    "vscode": {
      "interpreter": {
        "hash": "972b3bf27e332e87b5379f2791f6ef9dfc79c71018c370b0d7423235e20fe4d7"
      }
    },
    "colab": {
      "provenance": [],
      "include_colab_link": true
    }
  },
  "nbformat": 4,
  "nbformat_minor": 0
}